{
 "cells": [
  {
   "cell_type": "markdown",
   "id": "2299681f",
   "metadata": {},
   "source": [
    "### Poisson Ratings\n",
    "https://penaltyblog.readthedocs.io/en/latest/ratings/massey_ratings.html\n",
    "\n",
    "https://www.pro-football-reference.com/years/2022/games.htm\n"
   ]
  },
  {
   "cell_type": "code",
   "execution_count": 2,
   "id": "8032d00a",
   "metadata": {},
   "outputs": [],
   "source": [
    "%matplotlib inline\n",
    "%config InlineBackend.figure_format = 'retina'"
   ]
  },
  {
   "cell_type": "code",
   "execution_count": 3,
   "id": "46c641e9",
   "metadata": {},
   "outputs": [],
   "source": [
    "import os\n",
    "import warnings\n",
    "warnings.filterwarnings('ignore')\n",
    "\n",
    "import numpy as np\n",
    "import pandas as pd\n",
    "import matplotlib.pyplot as plt\n",
    "import penaltyblog as pb"
   ]
  },
  {
   "cell_type": "code",
   "execution_count": 5,
   "id": "22fa4e4e",
   "metadata": {},
   "outputs": [],
   "source": [
    "try:\n",
    "    import nfl_data_py as nfl\n",
    "except:\n",
    "    ! pip install nfl_data_py"
   ]
  },
  {
   "cell_type": "code",
   "execution_count": 4,
   "id": "225fe05d",
   "metadata": {},
   "outputs": [],
   "source": [
    "import nfl_data_py as nfl"
   ]
  },
  {
   "cell_type": "code",
   "execution_count": 6,
   "id": "c4a4ac51",
   "metadata": {},
   "outputs": [],
   "source": [
    "semana = 7\n",
    "temporada = 2022\n",
    "normalizacion = 1\n",
    "MAX = 10\n",
    "df = nfl.import_schedules([temporada])\n",
    "df = df[df['week']<semana]"
   ]
  },
  {
   "cell_type": "code",
   "execution_count": 7,
   "id": "d7eb53f2",
   "metadata": {},
   "outputs": [],
   "source": [
    "df = df.rename(columns={'away_team':'AwayTeam',\n",
    "                                   'home_team':'HomeTeam',\n",
    "                       'away_score':'FTHG',\n",
    "                       'home_score':'FTAG'})\n"
   ]
  },
  {
   "cell_type": "code",
   "execution_count": 8,
   "id": "997cd722",
   "metadata": {},
   "outputs": [],
   "source": [
    "if normalizacion == 1:\n",
    "    df['FTHG'] = (df['FTHG'] - df['FTHG'].min()) / \n",
    "                ( df['FTHG'].max() - df['FTHG'].min()) * MAX\n",
    "    df['FTAG'] = (df['FTAG'] - df['FTAG'].min()) / ( \n",
    "                 df['FTAG'].max() - df['FTAG'].min()) * MAX"
   ]
  },
  {
   "cell_type": "code",
   "execution_count": 9,
   "id": "05df29cd",
   "metadata": {},
   "outputs": [
    {
     "data": {
      "text/plain": [
       "FTHG    4.392730\n",
       "FTAG    4.566869\n",
       "dtype: float64"
      ]
     },
     "execution_count": 9,
     "metadata": {},
     "output_type": "execute_result"
    }
   ],
   "source": [
    "df[[\"FTHG\", \"FTAG\"]].mean()"
   ]
  },
  {
   "cell_type": "code",
   "execution_count": 10,
   "id": "aed8c282",
   "metadata": {},
   "outputs": [],
   "source": [
    "pr = nfl.import_schedules([temporada])\n",
    "pr = pr[pr['week']==semana ]\n",
    "juegos = pr['week'].count()"
   ]
  },
  {
   "cell_type": "code",
   "execution_count": 11,
   "id": "8a339727",
   "metadata": {},
   "outputs": [],
   "source": [
    "pr = pr.rename(columns={'away_team':'AwayTeam',\n",
    "                                   'home_team':'HomeTeam',\n",
    "                       'away_score':'FTHG',\n",
    "                       'home_score':'FTAG'})"
   ]
  },
  {
   "cell_type": "code",
   "execution_count": 12,
   "id": "a71e4290",
   "metadata": {},
   "outputs": [],
   "source": [
    "pois = pb.models.PoissonGoalsModel(df[\"FTHG\"], df[\"FTAG\"], \n",
    "                         df[\"HomeTeam\"], df[\"AwayTeam\"])\n",
    "pois.fit()"
   ]
  },
  {
   "cell_type": "code",
   "execution_count": 16,
   "id": "4a9df6a2",
   "metadata": {},
   "outputs": [
    {
     "name": "stdout",
     "output_type": "stream",
     "text": [
      "Poisson Model\n",
      "Season: 2022\n",
      "Week: 7\n",
      "L ARI -197 vs V NO 280\n",
      "L BAL 1204 vs V CLE -122\n",
      "L CAR -143 vs V TB 590\n",
      "L CIN 406 vs V ATL -161\n",
      "L DAL 429 vs V DET -151\n",
      "L JAX 237 vs V NYG 233\n",
      "L TEN 243 vs V IND 226\n",
      "L WAS 208 vs V GB 279\n",
      "L DEN -161 vs V NYJ 455\n",
      "L LV 258 vs V HOU 209\n",
      "L LAC 285 vs V SEA -191\n",
      "L SF 276 vs V KC -199\n",
      "L MIA 579 vs V PIT -137\n",
      "L NE 832 vs V CHI -130\n"
     ]
    }
   ],
   "source": [
    "print('Poisson Model')\n",
    "print(f'Season: {temporada}')\n",
    "print(f'Week: {semana}')\n",
    "for i in range(0,juegos):\n",
    "    EL = pr.iloc[i]['HomeTeam']\n",
    "    EV = pr.iloc[i]['AwayTeam']\n",
    "    probs = pois.predict(EL, EV)\n",
    "    #print(f'Home {EL} {probs.home_win} vs Away {EV} {probs.away_win}')\n",
    "    if probs.home_win >= .50 :\n",
    "        print(f'L {EL} -{100/probs.home_win:.0f} vs V {EV} {100/probs.away_win:.0f}')\n",
    "    elif probs.away_win >= .50:\n",
    "        print(f'L {EL} {100/probs.home_win:.0f} vs V {EV} -{100/probs.away_win:.0f}')\n",
    "    else:\n",
    "        print(f'L {EL} {100/probs.home_win:.0f} vs V {EV} {100/probs.away_win:.0f}')"
   ]
  },
  {
   "cell_type": "code",
   "execution_count": 14,
   "id": "a7e6c20f",
   "metadata": {},
   "outputs": [
    {
     "data": {
      "text/plain": [
       "Module: Penaltyblog\n",
       "\n",
       "Model: Poisson\n",
       "\n",
       "Number of parameters: 65\n",
       "Log Likelihood: -358.726\n",
       "AIC: 847.452\n",
       "\n",
       "Team                 Attack               Defence             \n",
       "------------------------------------------------------------\n",
       "ARI                  1.045                0.08                \n",
       "ATL                  1.079                0.412               \n",
       "BAL                  0.998                0.868               \n",
       "BUF                  0.269                0.62                \n",
       "CAR                  1.182                0.082               \n",
       "CHI                  1.131                -0.009              \n",
       "CIN                  0.723                0.421               \n",
       "CLE                  1.338                0.517               \n",
       "DAL                  0.73                 0.349               \n",
       "DEN                  0.75                 -0.175              \n",
       "DET                  1.555                0.831               \n",
       "GB                   1.094                0.257               \n",
       "HOU                  1.107                0.162               \n",
       "IND                  0.948                0.129               \n",
       "JAX                  1.001                0.442               \n",
       "KC                   1.295                0.822               \n",
       "LA                   1.07                 0.234               \n",
       "LAC                  1.129                0.353               \n",
       "LV                   1.293                0.424               \n",
       "MIA                  1.107                0.687               \n",
       "MIN                  0.831                0.276               \n",
       "NE                   0.606                0.277               \n",
       "NO                   1.308                0.473               \n",
       "NYG                  0.883                0.317               \n",
       "NYJ                  0.861                0.417               \n",
       "PHI                  0.786                0.617               \n",
       "PIT                  1.161                0.246               \n",
       "SEA                  1.313                0.397               \n",
       "SF                   0.594                0.242               \n",
       "TB                   0.652                0.171               \n",
       "TEN                  1.205                0.415               \n",
       "WAS                  0.954                -0.009              \n",
       "------------------------------------------------------------\n",
       "Home Advantage: 0.0"
      ]
     },
     "execution_count": 14,
     "metadata": {},
     "output_type": "execute_result"
    }
   ],
   "source": [
    "pois"
   ]
  },
  {
   "cell_type": "code",
   "execution_count": 15,
   "id": "d4769afc",
   "metadata": {},
   "outputs": [
    {
     "data": {
      "text/plain": [
       "{'attack_ARI': 1.0453658178094067,\n",
       " 'attack_ATL': 1.079431187363565,\n",
       " 'attack_BAL': 0.9984436296079033,\n",
       " 'attack_BUF': 0.2688094985273027,\n",
       " 'attack_CAR': 1.182260923713708,\n",
       " 'attack_CHI': 1.1307872236457814,\n",
       " 'attack_CIN': 0.7232213994743643,\n",
       " 'attack_CLE': 1.3377832596220653,\n",
       " 'attack_DAL': 0.7303150334380958,\n",
       " 'attack_DEN': 0.7503296652662854,\n",
       " 'attack_DET': 1.5551114986431522,\n",
       " 'attack_GB': 1.0935078640261373,\n",
       " 'attack_HOU': 1.1074404679362109,\n",
       " 'attack_IND': 0.9478952681616304,\n",
       " 'attack_JAX': 1.0007955078737478,\n",
       " 'attack_KC': 1.2948960328829227,\n",
       " 'attack_LA': 1.0702087622867784,\n",
       " 'attack_LAC': 1.1292565821928817,\n",
       " 'attack_LV': 1.2931508919724986,\n",
       " 'attack_MIA': 1.1068206238799738,\n",
       " 'attack_MIN': 0.830568773249577,\n",
       " 'attack_NE': 0.6055834755569847,\n",
       " 'attack_NO': 1.308089331726023,\n",
       " 'attack_NYG': 0.8829374289184715,\n",
       " 'attack_NYJ': 0.8614924824609496,\n",
       " 'attack_PHI': 0.7857559692981849,\n",
       " 'attack_PIT': 1.160982514739654,\n",
       " 'attack_SEA': 1.3130995999825086,\n",
       " 'attack_SF': 0.5940075323829301,\n",
       " 'attack_TB': 0.6519898507505214,\n",
       " 'attack_TEN': 1.2054455166691336,\n",
       " 'attack_WAS': 0.9542163859406505,\n",
       " 'defence_ARI': 0.07999476929120257,\n",
       " 'defence_ATL': 0.4124828116373423,\n",
       " 'defence_BAL': 0.8682208740918018,\n",
       " 'defence_BUF': 0.6196154926621905,\n",
       " 'defence_CAR': 0.08232696239577006,\n",
       " 'defence_CHI': -0.008832234413835852,\n",
       " 'defence_CIN': 0.4206066425932565,\n",
       " 'defence_CLE': 0.5174399153926209,\n",
       " 'defence_DAL': 0.3490570786097045,\n",
       " 'defence_DEN': -0.17523311423646337,\n",
       " 'defence_DET': 0.8308289435821054,\n",
       " 'defence_GB': 0.25652795442769405,\n",
       " 'defence_HOU': 0.1618276989321136,\n",
       " 'defence_IND': 0.1293069966963952,\n",
       " 'defence_JAX': 0.44189933064598,\n",
       " 'defence_KC': 0.8216286743486888,\n",
       " 'defence_LA': 0.23391420854099695,\n",
       " 'defence_LAC': 0.3530694858489937,\n",
       " 'defence_LV': 0.42447223507285375,\n",
       " 'defence_MIA': 0.6869266471438116,\n",
       " 'defence_MIN': 0.2756290964971692,\n",
       " 'defence_NE': 0.2772371823909097,\n",
       " 'defence_NO': 0.4732808733457621,\n",
       " 'defence_NYG': 0.3174448776631123,\n",
       " 'defence_NYJ': 0.41729045596810976,\n",
       " 'defence_PHI': 0.6169021260750448,\n",
       " 'defence_PIT': 0.245541970392464,\n",
       " 'defence_SEA': 0.39714239230621023,\n",
       " 'defence_SF': 0.24224401491759173,\n",
       " 'defence_TB': 0.1706464865796773,\n",
       " 'defence_TEN': 0.4148761887445378,\n",
       " 'defence_WAS': -0.008928625492456528,\n",
       " 'home_advantage': 1.4710526565027031e-15}"
      ]
     },
     "execution_count": 15,
     "metadata": {},
     "output_type": "execute_result"
    }
   ],
   "source": [
    "pois.get_params()"
   ]
  },
  {
   "cell_type": "code",
   "execution_count": null,
   "id": "0b9e4239",
   "metadata": {},
   "outputs": [],
   "source": []
  }
 ],
 "metadata": {
  "kernelspec": {
   "display_name": "Python 3",
   "language": "python",
   "name": "python3"
  },
  "language_info": {
   "codemirror_mode": {
    "name": "ipython",
    "version": 3
   },
   "file_extension": ".py",
   "mimetype": "text/x-python",
   "name": "python",
   "nbconvert_exporter": "python",
   "pygments_lexer": "ipython3",
   "version": "3.10.0 (tags/v3.10.0:b494f59, Oct  4 2021, 19:00:18) [MSC v.1929 64 bit (AMD64)]"
  },
  "vscode": {
   "interpreter": {
    "hash": "3e6eaf00392b0cb8b5a646d3515e821c15d6342d64f11192f7e7dc8c1b273a06"
   }
  }
 },
 "nbformat": 4,
 "nbformat_minor": 5
}
